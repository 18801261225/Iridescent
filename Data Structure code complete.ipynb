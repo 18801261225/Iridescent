{
 "cells": [
  {
   "cell_type": "markdown",
   "metadata": {},
   "source": [
    "# Data Structure"
   ]
  },
  {
   "cell_type": "markdown",
   "metadata": {},
   "source": [
    "## Array"
   ]
  },
  {
   "cell_type": "code",
   "execution_count": 1,
   "metadata": {},
   "outputs": [],
   "source": [
    "class Array:\n",
    "    # 使用Python列表实现\n",
    "    def __init__(self, x):\n",
    "        self.data = list(x)\n",
    "    # 数组元素的个数\n",
    "    def size(self):\n",
    "        return len(self.data)\n",
    "    # 判断数组是否为空\n",
    "    def is_empty(self):\n",
    "        return True if not self.data else False\n",
    "        # other ways: 1. self.data == [] ; 2. len(self.data) == 0\n",
    "    # 获取数组对应索引的元素，若越界则报错\n",
    "    def at(self,index):\n",
    "        if index >= len(self.data):\n",
    "            raise IndexError(\"Array index out of range.\")\n",
    "        return self.data[index]\n",
    "    # 在数组末尾插入元素\n",
    "    def push(self,item):\n",
    "        self.data.append(item)\n",
    "    # 在指定索引中插入元素，并把后面的元素依次后移\n",
    "    def insert(self, index, item):\n",
    "        self.data.insert(index, item)\n",
    "    # 删除在数组末尾的元素并返回其值\n",
    "    def pop(self):\n",
    "        return self.data.pop()\n",
    "    # 删除指定索引的元素，并把后面的元素依次前移\n",
    "    def delete(self,index):\n",
    "        self.data.pop(index)\n",
    "    # 删除指定值的元素，并返回其索引（即使有多个元素）\n",
    "    def remove(self, item):\n",
    "        index_list = []\n",
    "        item_count = self.data.count(item)\n",
    "        for i in range(item_count):\n",
    "            index_list.append(self.data.index(item))\n",
    "            self.data.remove(item)\n",
    "        return index_list\n",
    "    # 寻找指定值的元素并返回其中第一个出现的元素其索引，若未找到则返回 -1\n",
    "    def find(self, item):\n",
    "        if item in self.data:\n",
    "            return self.data.index(item)\n",
    "        else:\n",
    "            return -1\n",
    "    # 翻转数组\n",
    "    def reverse(self):\n",
    "        temp = []\n",
    "        size = len(self.data)\n",
    "        for i in range(size):\n",
    "            temp.append(self.data[size-1-i])\n",
    "        self.data = temp\n",
    "    # 升序排序数组\n",
    "    def sort(self):\n",
    "        return self.data.sort()    # self.data.sort(reverse = True) 为降序"
   ]
  },
  {
   "cell_type": "markdown",
   "metadata": {},
   "source": [
    "#### 普通测试用例"
   ]
  },
  {
   "cell_type": "code",
   "execution_count": 2,
   "metadata": {},
   "outputs": [
    {
     "name": "stdout",
     "output_type": "stream",
     "text": [
      "array1:  [1, 2, 3, 3, 4, 3]\n",
      "size of array1:  6\n",
      "is array1 empty?  False\n",
      "the 3rd element of array1:  3\n",
      "sorted array1:  [1, 2, 3, 3, 3, 4]\n",
      "insert 9 to 3rd position:  [1, 2, 3, 9, 3, 3, 4]\n",
      "pop:  [1, 2, 3, 9, 3, 3]\n",
      "delete index 4:  [1, 2, 3, 9, 3]\n",
      "remove all 3:  [1, 2, 9]\n",
      "find the index of 9:  2\n",
      "reverse array:  [9, 2, 1]\n"
     ]
    }
   ],
   "source": [
    "array1 = Array([1,2,3,3])\n",
    "array1.push(4)\n",
    "array1.push(3)\n",
    "print(\"array1: \",array1.data)\n",
    "print(\"size of array1: \", array1.size())\n",
    "print(\"is array1 empty? \", array1.is_empty())\n",
    "print(\"the 3rd element of array1: \", array1.at(2))\n",
    "array1.sort()\n",
    "print(\"sorted array1: \",array1.data)\n",
    "array1.insert(3,9)\n",
    "print(\"insert 9 to 3rd position: \", array1.data)\n",
    "array1.pop()\n",
    "print(\"pop: \",array1.data)\n",
    "array1.delete(4)\n",
    "print(\"delete index 4: \",array1.data)\n",
    "array1.remove(3)\n",
    "print(\"remove all 3: \", array1.data)\n",
    "print(\"find the index of 9: \",array1.find(9))\n",
    "array1.reverse()\n",
    "print(\"reverse array: \",array1.data)"
   ]
  },
  {
   "cell_type": "markdown",
   "metadata": {},
   "source": [
    "## Linked List "
   ]
  },
  {
   "cell_type": "code",
   "execution_count": 3,
   "metadata": {},
   "outputs": [],
   "source": [
    "class listNode:    # 链表中的结点类\n",
    "    def __init__(self, x):\n",
    "        self.val = x\n",
    "        self.next = None\n",
    "\n",
    "class LinkedList:    # 链表类\n",
    "    def __init__(self):\n",
    "        self.head = None\n",
    "    # 打印链表\n",
    "    def get_list(self):\n",
    "        res = []\n",
    "        head = self.head\n",
    "        while head:\n",
    "            res.append(head.val)\n",
    "            head = head.next\n",
    "        return res\n",
    "    # 链表长度\n",
    "    def size(self):\n",
    "        size = 0\n",
    "        head = self.head\n",
    "        while head:\n",
    "            size += 1\n",
    "            head = head.next\n",
    "        return size\n",
    "    # 判断链表是否为空\n",
    "    def empty(self):\n",
    "        return False if self.head else True\n",
    "    # 返回索引处的值\n",
    "    def value_at(self, index):\n",
    "        if not self.head:\n",
    "            raise IndexError(\"Index out of range.\")\n",
    "        head = self.head\n",
    "        while index > 0:\n",
    "            if not head:\n",
    "                raise IndexError(\"Index out of range.\")\n",
    "            head = head.next\n",
    "            index -= 1\n",
    "        return head.val\n",
    "    # 添加元素到链表的首部\n",
    "    def add(self, value):\n",
    "        new_node = listNode(value)\n",
    "        new_node.next = self.head\n",
    "        self.head = new_node\n",
    "    # 删除首部元素并返回其值\n",
    "    def pop_front(self):\n",
    "        if not self.head:\n",
    "            raise IndexError(\"Pop from empty list\")\n",
    "        value = self.head.val\n",
    "        self.head = self.head.next\n",
    "        return value\n",
    "    # 添加元素到链表的尾部\n",
    "    def append(self, value):\n",
    "        new_node = listNode(value)\n",
    "        if not self.head:\n",
    "            self.head = new_node\n",
    "            return\n",
    "        head = self.head\n",
    "        while head.next:\n",
    "            head = head.next\n",
    "        head.next = new_node\n",
    "    # 删除尾部元素并返回其值\n",
    "    def pop_back(self):\n",
    "        if not self.head:\n",
    "            raise IndexError(\"Pop from empty list\")\n",
    "        if not self.head.next:\n",
    "            value = self.head.val\n",
    "            self.head = None\n",
    "            return value\n",
    "        head = self.head\n",
    "        while head.next.next:\n",
    "              head = head.next\n",
    "        value = head.next.val\n",
    "        head.next = None\n",
    "        return value\n",
    "    # 返回首部元素的值\n",
    "    def front(self):\n",
    "        if not self.head:\n",
    "            raise ValueError(\"Linked list is empty\")\n",
    "        return self.head.val\n",
    "    # 返回尾部元素的值\n",
    "    def back(self):\n",
    "        if not self.head:\n",
    "            raise ValueError(\"Linked list is empty\")\n",
    "        head = self.head\n",
    "        while head.next:\n",
    "            head = head.next\n",
    "        return head.val\n",
    "    # 插入值到指定的索引\n",
    "    def insert(self, index, value):\n",
    "        if not self.head:\n",
    "            raise IndexError(\"Index out of range\")\n",
    "        head = self.head\n",
    "        new_node = listNode(value)\n",
    "        if index == 0:\n",
    "            new_node.next = head\n",
    "            self.head = new_node\n",
    "            return\n",
    "        while index - 1 > 0:\n",
    "            head = head.next\n",
    "            if not head:\n",
    "                raise IndexError(\"Index out of range\")\n",
    "            index -= 1\n",
    "        temp = head.next\n",
    "        head.next = new_node\n",
    "        new_node.next = temp\n",
    "    # 删除指定索引的节点\n",
    "    def erase(self, index):\n",
    "        if not self.head:\n",
    "            raise IndexError(\"Index out of range\")\n",
    "        head = self.head\n",
    "        if index == 0:\n",
    "            self.head = head.next\n",
    "        while index - 1 > 0:\n",
    "            index -= 1\n",
    "            head = head.next\n",
    "            if not head:\n",
    "                raise IndexError(\"Index out of range\")\n",
    "        temp = head.next\n",
    "        head.next = temp.next\n",
    "    # 翻转链表\n",
    "    def reverse(self):\n",
    "        prev = None\n",
    "        head = self.head\n",
    "        while head:\n",
    "            temp = head.next\n",
    "            head.next = prev\n",
    "            prev = head\n",
    "            head = temp\n",
    "        self.head = prev\n",
    "    # 删除链表中指定值的第一个元素\n",
    "    def remove(self,value):\n",
    "        if not self.head:\n",
    "            return\n",
    "        head = self.head\n",
    "        if head.val == value:\n",
    "            self.head = head.next\n",
    "            return\n",
    "        while head.next:\n",
    "            if head.next.val == value:\n",
    "                temp = head.next.next\n",
    "                head.next = temp\n",
    "                return\n",
    "            head = head.next"
   ]
  },
  {
   "cell_type": "markdown",
   "metadata": {},
   "source": [
    "#### 普通测试用例"
   ]
  },
  {
   "cell_type": "code",
   "execution_count": 4,
   "metadata": {},
   "outputs": [
    {
     "name": "stdout",
     "output_type": "stream",
     "text": [
      "Linked list l1:  [1, 2, 3, 4, 4, 5]\n",
      "size of l1:  6\n",
      "is l1 empty?  False\n",
      "value at index 3:  4\n",
      "add node -1:  [-1, 1, 2, 3, 4, 4, 5]\n",
      "pop the front node:  [1, 2, 3, 4, 4, 5]\n",
      "pop the end node:  [1, 2, 3, 4, 4]\n",
      "get the front node value:  1\n",
      "get the end node value:  4\n",
      "insert 9 at index 4:  [1, 2, 3, 4, 9, 4]\n",
      "erase index 1:  [1, 3, 4, 9, 4]\n",
      "remove value 4:  [1, 3, 9, 4]\n",
      "revers l1:  [4, 9, 3, 1]\n"
     ]
    }
   ],
   "source": [
    "l1 = LinkedList()\n",
    "a = [1,2,3,4,4,5]\n",
    "for i in a:\n",
    "    l1.append(i)\n",
    "print(\"Linked list l1: \", l1.get_list())\n",
    "print(\"size of l1: \", l1.size())\n",
    "print(\"is l1 empty? \", l1.empty())\n",
    "print(\"value at index 3: \", l1.value_at(3))\n",
    "l1.add(-1)\n",
    "print(\"add node -1: \", l1.get_list())\n",
    "l1.pop_front()\n",
    "print(\"pop the front node: \", l1.get_list())\n",
    "l1.pop_back()\n",
    "print(\"pop the end node: \", l1.get_list())\n",
    "print(\"get the front node value: \", l1.front())\n",
    "print(\"get the end node value: \", l1.back())\n",
    "l1.insert(4,9)\n",
    "print(\"insert 9 at index 4: \",l1.get_list())\n",
    "l1.erase(1)\n",
    "print(\"erase index 1: \",l1.get_list())\n",
    "l1.remove(4)\n",
    "print(\"remove value 4: \",l1.get_list())\n",
    "l1.reverse()\n",
    "print(\"revers l1: \",l1.get_list())"
   ]
  },
  {
   "cell_type": "markdown",
   "metadata": {},
   "source": [
    "## Stack"
   ]
  },
  {
   "cell_type": "code",
   "execution_count": 5,
   "metadata": {},
   "outputs": [],
   "source": [
    "class Stack:\n",
    "    # 使用Python的列表实现\n",
    "    def __init__(self):\n",
    "        self.data = []\n",
    "    # 压栈\n",
    "    def push(self, item):\n",
    "        self.data.append(item)\n",
    "    # 出栈\n",
    "    def pop(self):\n",
    "        if self.data:\n",
    "            return self.data.pop()\n",
    "        else:\n",
    "            raise PopError(\"Pop from empty stack.\")\n",
    "    # 取栈顶的元素\n",
    "    def peek(self):\n",
    "        if self.data:\n",
    "            return self.data[-1]\n",
    "        else:\n",
    "            raise IndexError(\"Stack is empty.\")\n",
    "    # 返回栈的大小\n",
    "    def size(self):\n",
    "        return len(self.data)\n",
    "    # 判断栈是否为空\n",
    "    def is_empty(self):\n",
    "        return self.data == []"
   ]
  },
  {
   "cell_type": "markdown",
   "metadata": {},
   "source": [
    "#### 普通测试用例"
   ]
  },
  {
   "cell_type": "code",
   "execution_count": 7,
   "metadata": {},
   "outputs": [
    {
     "name": "stdout",
     "output_type": "stream",
     "text": [
      "s1:  [1, 2, 3, 4, 5]\n",
      "s1 peek:  5\n",
      "s1 pop and peek:  4\n",
      "s1 size:  4\n",
      "is s1 empty?  False\n"
     ]
    }
   ],
   "source": [
    "s1 = Stack()\n",
    "a = [1,2,3,4,5]\n",
    "for i in a:\n",
    "    s1.push(i)\n",
    "print(\"s1: \", a)\n",
    "print(\"s1 peek: \",s1.peek())\n",
    "s1.pop()\n",
    "print(\"s1 pop and peek: \",s1.peek())\n",
    "print(\"s1 size: \", s1.size())\n",
    "print(\"is s1 empty? \", s1.is_empty())"
   ]
  },
  {
   "cell_type": "markdown",
   "metadata": {},
   "source": [
    "## Queue（单链队列）"
   ]
  },
  {
   "cell_type": "code",
   "execution_count": 8,
   "metadata": {},
   "outputs": [],
   "source": [
    "class Queue:\n",
    "    # 使用Python的列表实现\n",
    "    def __init__(self):\n",
    "        self.data = []\n",
    "    # 元素入队（在队尾添加元素）\n",
    "    def enqueue(self, item):\n",
    "        self.data.append(item)\n",
    "    # 出队\n",
    "    def dequeue(self):\n",
    "        if self.data:\n",
    "            return self.data.pop(0)\n",
    "        else:\n",
    "            raise DequeueError(\"Queue is empty.\")\n",
    "    # 返回队列长度\n",
    "    def size(self):\n",
    "        return len(self.data)\n",
    "    # 判空\n",
    "    def is_empty(self):\n",
    "        return self.data == []"
   ]
  },
  {
   "cell_type": "markdown",
   "metadata": {},
   "source": [
    "#### 普通测试用例"
   ]
  },
  {
   "cell_type": "code",
   "execution_count": 9,
   "metadata": {},
   "outputs": [
    {
     "name": "stdout",
     "output_type": "stream",
     "text": [
      "queue q1:  [1, 2, 3, 4, 5]\n",
      "dequeue:  1\n",
      "size of q1:  4\n",
      "is q1 empty?  False\n"
     ]
    }
   ],
   "source": [
    "q1 = Queue()\n",
    "a = [1,2,3,4,5]\n",
    "for i in a:\n",
    "    q1.enqueue(i)\n",
    "print(\"queue q1: \", a)\n",
    "print(\"dequeue: \", q1.dequeue())\n",
    "print(\"size of q1: \", q1.size())\n",
    "print(\"is q1 empty? \", q1.is_empty())"
   ]
  },
  {
   "cell_type": "code",
   "execution_count": null,
   "metadata": {},
   "outputs": [],
   "source": []
  }
 ],
 "metadata": {
  "kernelspec": {
   "display_name": "Python 3",
   "language": "python",
   "name": "python3"
  },
  "language_info": {
   "codemirror_mode": {
    "name": "ipython",
    "version": 3
   },
   "file_extension": ".py",
   "mimetype": "text/x-python",
   "name": "python",
   "nbconvert_exporter": "python",
   "pygments_lexer": "ipython3",
   "version": "3.6.6"
  }
 },
 "nbformat": 4,
 "nbformat_minor": 2
}
